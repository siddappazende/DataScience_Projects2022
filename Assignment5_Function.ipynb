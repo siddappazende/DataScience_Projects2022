{
 "cells": [
  {
   "cell_type": "markdown",
   "id": "38d60e26",
   "metadata": {},
   "source": [
    "###### Q1.try to print a prime number in between 1 to 100"
   ]
  },
  {
   "cell_type": "code",
   "execution_count": 7,
   "id": "83182c0e",
   "metadata": {},
   "outputs": [],
   "source": [
    "def prime(number):\n",
    "    \"\"\" This function is for printing all prime numbers between given range\"\"\"\n",
    "    print(\"prime numbers between range {} and {} are \".format(1,number))\n",
    "    for i in range(number) :\n",
    "        l=[]\n",
    "        if i > 10 :\n",
    "            if i % 2 != 0 and i % 3 != 0 and i%4 != 0 and i%5 != 0 and i%6 != 0 and i%7 != 0 and i%8 != 0 and i%9 != 0:\n",
    "                print(i)\n",
    "        else :\n",
    "            if i == 2 or i == 3 or i == 5 or i == 7 :\n",
    "                print(i)"
   ]
  },
  {
   "cell_type": "code",
   "execution_count": 8,
   "id": "eae23886",
   "metadata": {
    "collapsed": true
   },
   "outputs": [
    {
     "name": "stdout",
     "output_type": "stream",
     "text": [
      "prime numbers between range 1 and 100 are \n",
      "2\n",
      "3\n",
      "5\n",
      "7\n",
      "11\n",
      "13\n",
      "17\n",
      "19\n",
      "23\n",
      "29\n",
      "31\n",
      "37\n",
      "41\n",
      "43\n",
      "47\n",
      "53\n",
      "59\n",
      "61\n",
      "67\n",
      "71\n",
      "73\n",
      "79\n",
      "83\n",
      "89\n",
      "97\n"
     ]
    }
   ],
   "source": [
    "prime(100)"
   ]
  },
  {
   "cell_type": "markdown",
   "id": "8563c1f4",
   "metadata": {},
   "source": [
    "###### Q2.try to write a function which is equavalent to print in python"
   ]
  },
  {
   "cell_type": "markdown",
   "id": "5317c741",
   "metadata": {},
   "source": [
    "###### Q3.try to write a function which is replica of list append, extend and pop function"
   ]
  },
  {
   "cell_type": "code",
   "execution_count": 29,
   "id": "ee7ba403",
   "metadata": {},
   "outputs": [],
   "source": [
    "#this is insert function in list\n",
    "def insert(*a,b=[],i) :\n",
    "    \"\"\"This is INSERT function in list\n",
    "       provide list, value/values/another list to be inserted \n",
    "       also provide the place(index) where you want to insert\"\"\"\n",
    "    empty_list = list(a)\n",
    "    if i <= len(list(a)) :\n",
    "        empty_list[i] = b\n",
    "        return empty_list\n",
    "    else :\n",
    "        print(\"please provide the valid index number to insert\") \n",
    "# this is extend function in list\n",
    "def extnd(*a,b=[]) :\n",
    "    \"\"\"This is extend function, where you can give your first list and second list/value/values to be extended\"\"\"\n",
    "    return list(a) + b\n",
    "#this is append function in list\n",
    "def appnd(*a,b=[]) :\n",
    "    return list(a), b\n",
    "# this is pop function in list\n",
    "def pop(*list1,index,start_point,slice) :\n",
    "    \"\"\" This is pop function in list. provide list, index, starting point\n",
    "        ,slicing method\"\"\"\n",
    "    if slice == 'y' :\n",
    "        list2 = list(list1)\n",
    "        list2[start_point : index] = []\n",
    "        return list2\n",
    "    else :\n",
    "        list2 = list(list1)\n",
    "        list2[index] = []\n",
    "        return list2"
   ]
  },
  {
   "cell_type": "code",
   "execution_count": 16,
   "id": "69ca15b8",
   "metadata": {},
   "outputs": [
    {
     "name": "stdout",
     "output_type": "stream",
     "text": [
      "please provide the valid index number to insert\n"
     ]
    }
   ],
   "source": [
    "insert(1,2,3,4,5,6,b=[12,13,14,15],i=10)"
   ]
  },
  {
   "cell_type": "code",
   "execution_count": 19,
   "id": "cc9a074d",
   "metadata": {},
   "outputs": [
    {
     "data": {
      "text/plain": [
       "[1, 2, 3, 4, 'name', 'city']"
      ]
     },
     "execution_count": 19,
     "metadata": {},
     "output_type": "execute_result"
    }
   ],
   "source": [
    "extnd(1,2,3,4,b=[\"name\",\"city\"])"
   ]
  },
  {
   "cell_type": "code",
   "execution_count": 25,
   "id": "0756714e",
   "metadata": {},
   "outputs": [
    {
     "data": {
      "text/plain": [
       "([1, 2, 3, 4, 5], ['name', 'city'])"
      ]
     },
     "execution_count": 25,
     "metadata": {},
     "output_type": "execute_result"
    }
   ],
   "source": [
    "appnd(1,2,3,4,5,b=[\"name\",\"city\"])"
   ]
  },
  {
   "cell_type": "code",
   "execution_count": 30,
   "id": "3205d767",
   "metadata": {},
   "outputs": [
    {
     "data": {
      "text/plain": [
       "[1, 2, 3, [11, 22, 33], [], 5, 6, 7, [345, 345], [345, 345], 345, 345]"
      ]
     },
     "execution_count": 30,
     "metadata": {},
     "output_type": "execute_result"
    }
   ],
   "source": [
    "pop(1, 2, 3, [11, 22, 33], 4, 5, 6, 7, [345, 345], [345, 345], 345, 345,index=4,start_point=0,slice='n')"
   ]
  },
  {
   "cell_type": "markdown",
   "id": "0fa1e2c3",
   "metadata": {},
   "source": [
    "###### q4.try to write a function which can return concatination of all the string that we will pass"
   ]
  },
  {
   "cell_type": "code",
   "execution_count": 31,
   "id": "03fb98a6",
   "metadata": {},
   "outputs": [],
   "source": [
    "def concat(*string) :\n",
    "    i = 0\n",
    "    out_string = \"\"\n",
    "    while i < len(list(string)) :\n",
    "        out_string = out_string + string[i]\n",
    "        i += 1\n",
    "    print(out_string)"
   ]
  },
  {
   "cell_type": "code",
   "execution_count": 36,
   "id": "6ab50dc8",
   "metadata": {},
   "outputs": [
    {
     "name": "stdout",
     "output_type": "stream",
     "text": [
      "out:-As long as the countdown variable is greater than zero,the code keeps appending text without a trailing newline and t(hen goes to sleep for one second.Finally, when the countdown is finished, it prints Go! and terminates the line.\n"
     ]
    }
   ],
   "source": [
    "concat(\"out:-\",\"As long as the countdown variable is greater than zero,\",\"the code keeps appending text without a trailing newline and t(hen goes to sleep for one second.\",\"Finally, when the countdown is finished, it prints Go! and terminates the line.\")"
   ]
  },
  {
   "cell_type": "markdown",
   "id": "647bf118",
   "metadata": {},
   "source": [
    "###### q4.try to write a lambda function which can return concatination of all the string that we will pass"
   ]
  },
  {
   "cell_type": "code",
   "execution_count": 41,
   "id": "bb05a0d7",
   "metadata": {},
   "outputs": [
    {
     "name": "stdout",
     "output_type": "stream",
     "text": [
      "12343456\n"
     ]
    }
   ],
   "source": [
    "dummy=\"\"\n",
    "def concat1(*string) :\n",
    "    i = 0\n",
    "    out_string = \"\"\n",
    "    while i < len(list(string)) :\n",
    "        out_string = out_string + string[i]\n",
    "        i += 1\n",
    "    print(out_string)\n",
    "(lambda dummy : concat1(\"1234\",\"3456\")) (dummy)"
   ]
  },
  {
   "cell_type": "markdown",
   "id": "8356bccf",
   "metadata": {},
   "source": [
    "###### q5.try to write lambda function which can return list of all data beween 1 - 100"
   ]
  },
  {
   "cell_type": "code",
   "execution_count": 45,
   "id": "75a361ce",
   "metadata": {
    "collapsed": true
   },
   "outputs": [
    {
     "data": {
      "text/plain": [
       "[0,\n",
       " 1,\n",
       " 2,\n",
       " 3,\n",
       " 4,\n",
       " 5,\n",
       " 6,\n",
       " 7,\n",
       " 8,\n",
       " 9,\n",
       " 10,\n",
       " 11,\n",
       " 12,\n",
       " 13,\n",
       " 14,\n",
       " 15,\n",
       " 16,\n",
       " 17,\n",
       " 18,\n",
       " 19,\n",
       " 20,\n",
       " 21,\n",
       " 22,\n",
       " 23,\n",
       " 24,\n",
       " 25,\n",
       " 26,\n",
       " 27,\n",
       " 28,\n",
       " 29,\n",
       " 30,\n",
       " 31,\n",
       " 32,\n",
       " 33,\n",
       " 34,\n",
       " 35,\n",
       " 36,\n",
       " 37,\n",
       " 38,\n",
       " 39,\n",
       " 40,\n",
       " 41,\n",
       " 42,\n",
       " 43,\n",
       " 44,\n",
       " 45,\n",
       " 46,\n",
       " 47,\n",
       " 48,\n",
       " 49,\n",
       " 50,\n",
       " 51,\n",
       " 52,\n",
       " 53,\n",
       " 54,\n",
       " 55,\n",
       " 56,\n",
       " 57,\n",
       " 58,\n",
       " 59,\n",
       " 60,\n",
       " 61,\n",
       " 62,\n",
       " 63,\n",
       " 64,\n",
       " 65,\n",
       " 66,\n",
       " 67,\n",
       " 68,\n",
       " 69,\n",
       " 70,\n",
       " 71,\n",
       " 72,\n",
       " 73,\n",
       " 74,\n",
       " 75,\n",
       " 76,\n",
       " 77,\n",
       " 78,\n",
       " 79,\n",
       " 80,\n",
       " 81,\n",
       " 82,\n",
       " 83,\n",
       " 84,\n",
       " 85,\n",
       " 86,\n",
       " 87,\n",
       " 88,\n",
       " 89,\n",
       " 90,\n",
       " 91,\n",
       " 92,\n",
       " 93,\n",
       " 94,\n",
       " 95,\n",
       " 96,\n",
       " 97,\n",
       " 98,\n",
       " 99]"
      ]
     },
     "execution_count": 45,
     "metadata": {},
     "output_type": "execute_result"
    }
   ],
   "source": [
    "l= lambda i : [i for i in range(i)]\n",
    "l(100)"
   ]
  },
  {
   "cell_type": "markdown",
   "id": "612c2055",
   "metadata": {},
   "source": [
    "###### q6.try to write a 10 different exampe of lambda function with choice of your tasks"
   ]
  },
  {
   "cell_type": "markdown",
   "id": "495a76b6",
   "metadata": {},
   "source": [
    "##### q6.1. sum of all odd numbers between given range"
   ]
  },
  {
   "cell_type": "code",
   "execution_count": 55,
   "id": "816dfaab",
   "metadata": {},
   "outputs": [
    {
     "name": "stdout",
     "output_type": "stream",
     "text": [
      "sum of all odd numbers between 1 and 100 is  2500\n"
     ]
    }
   ],
   "source": [
    "def func1(args) :\n",
    "    sum = 0\n",
    "    for i in range(args) :\n",
    "        if i%2 != 0 :\n",
    "            sum = sum + i\n",
    "    print(\"sum of all odd numbers between 1 and {} is \".format(args),sum)\n",
    "l = lambda count : func1(count)\n",
    "l(100)"
   ]
  },
  {
   "cell_type": "markdown",
   "id": "013e5a31",
   "metadata": {},
   "source": [
    "##### q6.2. sum of all even numbers between given range"
   ]
  },
  {
   "cell_type": "code",
   "execution_count": 53,
   "id": "10ad07d6",
   "metadata": {},
   "outputs": [
    {
     "name": "stdout",
     "output_type": "stream",
     "text": [
      "sum of all even numbers between 1 and 100 is  2450\n"
     ]
    }
   ],
   "source": [
    "def func2(args) :\n",
    "    sum = 0\n",
    "    for i in range(args) :\n",
    "        if i%2 == 0 :\n",
    "            sum = sum + i\n",
    "    print(\"sum of all even numbers between 1 and {} is \" .format(args), sum)\n",
    "l = lambda count : func2(count)\n",
    "l(100)"
   ]
  },
  {
   "cell_type": "markdown",
   "id": "27129a64",
   "metadata": {},
   "source": [
    "##### q6.3.factorial of given number"
   ]
  },
  {
   "cell_type": "code",
   "execution_count": 60,
   "id": "07ed4568",
   "metadata": {},
   "outputs": [],
   "source": [
    "def fact(args) : \n",
    "    i = 1\n",
    "    facto = args\n",
    "    while i < args :\n",
    "        facto = facto * (args - i)\n",
    "        i = i + 1\n",
    "    print(facto)"
   ]
  },
  {
   "cell_type": "code",
   "execution_count": 62,
   "id": "02b6e1a5",
   "metadata": {},
   "outputs": [
    {
     "name": "stdout",
     "output_type": "stream",
     "text": [
      "815915283247897734345611269596115894272000000000\n"
     ]
    }
   ],
   "source": [
    "l = lambda number : fact(number)\n",
    "l(40)"
   ]
  },
  {
   "cell_type": "markdown",
   "id": "79446b66",
   "metadata": {},
   "source": [
    "###### q7.try to write a function which can perform a read operationfrom .txt file"
   ]
  },
  {
   "cell_type": "code",
   "execution_count": 63,
   "id": "021c1d7a",
   "metadata": {},
   "outputs": [],
   "source": [
    "def read(args,mode) :\n",
    "    file = open(args,mode)\n",
    "    print(file.read())\n",
    "    print() "
   ]
  },
  {
   "cell_type": "code",
   "execution_count": 64,
   "id": "1c5a2319",
   "metadata": {},
   "outputs": [
    {
     "name": "stdout",
     "output_type": "stream",
     "text": [
      "This is a full stack data science course where you will learn all the stack required to work in data science, data analytics and big data industry including ML ops and cloud infrastructure\n",
      "\n"
     ]
    }
   ],
   "source": [
    "read(\"testfile\",\"r\")"
   ]
  }
 ],
 "metadata": {
  "kernelspec": {
   "display_name": "Python 3 (ipykernel)",
   "language": "python",
   "name": "python3"
  },
  "language_info": {
   "codemirror_mode": {
    "name": "ipython",
    "version": 3
   },
   "file_extension": ".py",
   "mimetype": "text/x-python",
   "name": "python",
   "nbconvert_exporter": "python",
   "pygments_lexer": "ipython3",
   "version": "3.9.7"
  }
 },
 "nbformat": 4,
 "nbformat_minor": 5
}
